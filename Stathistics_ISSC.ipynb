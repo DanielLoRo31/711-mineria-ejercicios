{
 "cells": [
  {
   "cell_type": "code",
   "execution_count": 48,
   "metadata": {},
   "outputs": [],
   "source": [
    "# Ejemplos de estadistica descriptiva con python\n",
    "\n",
    "import numpy as np # importando numpy\n",
    "from scipy import stats as sp # importando scipy.stats\n",
    "import pandas as pd # importando pandas\n",
    "\n",
    "np.random.seed(213) # para poder replicar el random"
   ]
  },
  {
   "cell_type": "code",
   "execution_count": 54,
   "metadata": {},
   "outputs": [
    {
     "data": {
      "text/plain": [
       "array([[-1.20682859,  0.54377245, -0.70685118,  0.23794561],\n",
       "       [-1.06961942, -1.60547835, -0.16856714, -0.60405107],\n",
       "       [-0.33868921,  0.35161806, -0.31276085,  0.29118556],\n",
       "       [-0.39365565,  0.88856828,  0.71805256, -0.24850067],\n",
       "       [ 0.75396205,  0.08603449,  0.81155427,  0.51157937]])"
      ]
     },
     "execution_count": 54,
     "metadata": {},
     "output_type": "execute_result"
    }
   ],
   "source": [
    "datos = np.random.randn(5, 4) # datos normalmente distribuidos, Matriz de 5 renglones X 4 columnas\n",
    "datos\n"
   ]
  },
  {
   "cell_type": "code",
   "execution_count": 55,
   "metadata": {},
   "outputs": [
    {
     "data": {
      "text/html": [
       "<div>\n",
       "<style scoped>\n",
       "    .dataframe tbody tr th:only-of-type {\n",
       "        vertical-align: middle;\n",
       "    }\n",
       "\n",
       "    .dataframe tbody tr th {\n",
       "        vertical-align: top;\n",
       "    }\n",
       "\n",
       "    .dataframe thead th {\n",
       "        text-align: right;\n",
       "    }\n",
       "</style>\n",
       "<table border=\"1\" class=\"dataframe\">\n",
       "  <thead>\n",
       "    <tr style=\"text-align: right;\">\n",
       "      <th></th>\n",
       "      <th>0</th>\n",
       "      <th>1</th>\n",
       "      <th>2</th>\n",
       "      <th>3</th>\n",
       "    </tr>\n",
       "  </thead>\n",
       "  <tbody>\n",
       "    <tr>\n",
       "      <td>0</td>\n",
       "      <td>-1.206829</td>\n",
       "      <td>0.543772</td>\n",
       "      <td>-0.706851</td>\n",
       "      <td>0.237946</td>\n",
       "    </tr>\n",
       "    <tr>\n",
       "      <td>1</td>\n",
       "      <td>-1.069619</td>\n",
       "      <td>-1.605478</td>\n",
       "      <td>-0.168567</td>\n",
       "      <td>-0.604051</td>\n",
       "    </tr>\n",
       "    <tr>\n",
       "      <td>2</td>\n",
       "      <td>-0.338689</td>\n",
       "      <td>0.351618</td>\n",
       "      <td>-0.312761</td>\n",
       "      <td>0.291186</td>\n",
       "    </tr>\n",
       "    <tr>\n",
       "      <td>3</td>\n",
       "      <td>-0.393656</td>\n",
       "      <td>0.888568</td>\n",
       "      <td>0.718053</td>\n",
       "      <td>-0.248501</td>\n",
       "    </tr>\n",
       "    <tr>\n",
       "      <td>4</td>\n",
       "      <td>0.753962</td>\n",
       "      <td>0.086034</td>\n",
       "      <td>0.811554</td>\n",
       "      <td>0.511579</td>\n",
       "    </tr>\n",
       "  </tbody>\n",
       "</table>\n",
       "</div>"
      ],
      "text/plain": [
       "          0         1         2         3\n",
       "0 -1.206829  0.543772 -0.706851  0.237946\n",
       "1 -1.069619 -1.605478 -0.168567 -0.604051\n",
       "2 -0.338689  0.351618 -0.312761  0.291186\n",
       "3 -0.393656  0.888568  0.718053 -0.248501\n",
       "4  0.753962  0.086034  0.811554  0.511579"
      ]
     },
     "execution_count": 55,
     "metadata": {},
     "output_type": "execute_result"
    }
   ],
   "source": [
    "df=pd.DataFrame(datos)  #Convertir a DataFrame el arreglo \n",
    "df"
   ]
  },
  {
   "cell_type": "code",
   "execution_count": 56,
   "metadata": {},
   "outputs": [
    {
     "data": {
      "text/html": [
       "<div>\n",
       "<style scoped>\n",
       "    .dataframe tbody tr th:only-of-type {\n",
       "        vertical-align: middle;\n",
       "    }\n",
       "\n",
       "    .dataframe tbody tr th {\n",
       "        vertical-align: top;\n",
       "    }\n",
       "\n",
       "    .dataframe thead th {\n",
       "        text-align: right;\n",
       "    }\n",
       "</style>\n",
       "<table border=\"1\" class=\"dataframe\">\n",
       "  <thead>\n",
       "    <tr style=\"text-align: right;\">\n",
       "      <th></th>\n",
       "      <th>C1</th>\n",
       "      <th>C2</th>\n",
       "      <th>C3</th>\n",
       "      <th>C4</th>\n",
       "    </tr>\n",
       "  </thead>\n",
       "  <tbody>\n",
       "    <tr>\n",
       "      <td>0</td>\n",
       "      <td>-1.206829</td>\n",
       "      <td>0.543772</td>\n",
       "      <td>-0.706851</td>\n",
       "      <td>0.237946</td>\n",
       "    </tr>\n",
       "    <tr>\n",
       "      <td>1</td>\n",
       "      <td>-1.069619</td>\n",
       "      <td>-1.605478</td>\n",
       "      <td>-0.168567</td>\n",
       "      <td>-0.604051</td>\n",
       "    </tr>\n",
       "    <tr>\n",
       "      <td>2</td>\n",
       "      <td>-0.338689</td>\n",
       "      <td>0.351618</td>\n",
       "      <td>-0.312761</td>\n",
       "      <td>0.291186</td>\n",
       "    </tr>\n",
       "    <tr>\n",
       "      <td>3</td>\n",
       "      <td>-0.393656</td>\n",
       "      <td>0.888568</td>\n",
       "      <td>0.718053</td>\n",
       "      <td>-0.248501</td>\n",
       "    </tr>\n",
       "    <tr>\n",
       "      <td>4</td>\n",
       "      <td>0.753962</td>\n",
       "      <td>0.086034</td>\n",
       "      <td>0.811554</td>\n",
       "      <td>0.511579</td>\n",
       "    </tr>\n",
       "  </tbody>\n",
       "</table>\n",
       "</div>"
      ],
      "text/plain": [
       "         C1        C2        C3        C4\n",
       "0 -1.206829  0.543772 -0.706851  0.237946\n",
       "1 -1.069619 -1.605478 -0.168567 -0.604051\n",
       "2 -0.338689  0.351618 -0.312761  0.291186\n",
       "3 -0.393656  0.888568  0.718053 -0.248501\n",
       "4  0.753962  0.086034  0.811554  0.511579"
      ]
     },
     "execution_count": 56,
     "metadata": {},
     "output_type": "execute_result"
    }
   ],
   "source": [
    "df = df.rename(columns={0:'C1',1:'C2',2:'C3',3:'C4',4:'C5'})    #Asignar nombres de columnas a DF\n",
    "df"
   ]
  },
  {
   "cell_type": "code",
   "execution_count": 20,
   "metadata": {},
   "outputs": [
    {
     "data": {
      "text/plain": [
       "C1    0.079199\n",
       "C2   -0.611803\n",
       "C3    0.230616\n",
       "C4   -0.289464\n",
       "dtype: float64"
      ]
     },
     "execution_count": 20,
     "metadata": {},
     "output_type": "execute_result"
    }
   ],
   "source": [
    "# media arítmetica\n",
    "df.mean() # Calcula la media aritmetica de"
   ]
  },
  {
   "cell_type": "code",
   "execution_count": 21,
   "metadata": {},
   "outputs": [
    {
     "data": {
      "text/plain": [
       "C1    0.079199\n",
       "C2   -0.611803\n",
       "C3    0.230616\n",
       "C4   -0.289464\n",
       "dtype: float64"
      ]
     },
     "execution_count": 21,
     "metadata": {},
     "output_type": "execute_result"
    }
   ],
   "source": [
    "np.mean(df) # Mismo resultado desde la funcion de numpy"
   ]
  },
  {
   "cell_type": "code",
   "execution_count": 22,
   "metadata": {},
   "outputs": [
    {
     "data": {
      "text/plain": [
       "0   -0.472288\n",
       "1   -0.404163\n",
       "2    0.711997\n",
       "3   -0.338067\n",
       "4   -0.236794\n",
       "dtype: float64"
      ]
     },
     "execution_count": 22,
     "metadata": {},
     "output_type": "execute_result"
    }
   ],
   "source": [
    "df.mean(axis=1) # media aritmetica by row"
   ]
  },
  {
   "cell_type": "code",
   "execution_count": 24,
   "metadata": {},
   "outputs": [
    {
     "data": {
      "text/plain": [
       "C1    0.079199\n",
       "C2   -0.611803\n",
       "C3    0.230616\n",
       "C4   -0.289464\n",
       "dtype: float64"
      ]
     },
     "execution_count": 24,
     "metadata": {},
     "output_type": "execute_result"
    }
   ],
   "source": [
    "df.mean(axis=0) # media aritmetica by col"
   ]
  },
  {
   "cell_type": "code",
   "execution_count": 28,
   "metadata": {},
   "outputs": [
    {
     "data": {
      "text/plain": [
       "C1   -0.107403\n",
       "C2   -0.881381\n",
       "C3   -0.344666\n",
       "C4   -0.181483\n",
       "dtype: float64"
      ]
     },
     "execution_count": 28,
     "metadata": {},
     "output_type": "execute_result"
    }
   ],
   "source": [
    "# mediana\n",
    "df.median() "
   ]
  },
  {
   "cell_type": "code",
   "execution_count": 59,
   "metadata": {},
   "outputs": [
    {
     "data": {
      "text/plain": [
       "C1    0.695960\n",
       "C2    0.869465\n",
       "C3    0.596117\n",
       "C4    0.405628\n",
       "dtype: float64"
      ]
     },
     "execution_count": 59,
     "metadata": {},
     "output_type": "execute_result"
    }
   ],
   "source": [
    " # Desviación Estandar\n",
    "np.std(df)"
   ]
  },
  {
   "cell_type": "code",
   "execution_count": 40,
   "metadata": {},
   "outputs": [
    {
     "data": {
      "text/plain": [
       "0    0.433510\n",
       "1    0.111325\n",
       "2    0.366589\n",
       "3    0.047678\n",
       "4    1.394952\n",
       "dtype: float64"
      ]
     },
     "execution_count": 40,
     "metadata": {},
     "output_type": "execute_result"
    }
   ],
   "source": [
    " # Varianza by row\n",
    "df.var(axis=1)"
   ]
  },
  {
   "cell_type": "code",
   "execution_count": 46,
   "metadata": {},
   "outputs": [
    {
     "data": {
      "text/plain": [
       "ModeResult(mode=array([[-0.76959435, -1.37414587, -0.62681496, -0.63329028]]), count=array([[1, 1, 1, 1]]))"
      ]
     },
     "execution_count": 46,
     "metadata": {},
     "output_type": "execute_result"
    }
   ],
   "source": [
    "sp.mode(df) # Calcula la moda by col"
   ]
  },
  {
   "cell_type": "code",
   "execution_count": 57,
   "metadata": {},
   "outputs": [
    {
     "data": {
      "text/plain": [
       "array([[ 1.        , -0.38632265,  0.97055705,  0.41505188, -0.87255805],\n",
       "       [-0.38632265,  1.        , -0.47983789, -0.11955301,  0.77603869],\n",
       "       [ 0.97055705, -0.47983789,  1.        ,  0.20484676, -0.87756593],\n",
       "       [ 0.41505188, -0.11955301,  0.20484676,  1.        , -0.44133771],\n",
       "       [-0.87255805,  0.77603869, -0.87756593, -0.44133771,  1.        ]])"
      ]
     },
     "execution_count": 57,
     "metadata": {},
     "output_type": "execute_result"
    }
   ],
   "source": [
    "np.corrcoef(df)    # Correlación entre Datos del DF"
   ]
  },
  {
   "cell_type": "code",
   "execution_count": 61,
   "metadata": {},
   "outputs": [
    {
     "data": {
      "text/plain": [
       "array([[0.60545062, 0.20717804],\n",
       "       [0.20717804, 0.20566753]])"
      ]
     },
     "execution_count": 61,
     "metadata": {},
     "output_type": "execute_result"
    }
   ],
   "source": [
    "np.cov(df['C1'], df['C4'])  # Calcular Covarianza entre Col1 y Col4"
   ]
  },
  {
   "cell_type": "code",
   "execution_count": 62,
   "metadata": {},
   "outputs": [],
   "source": [
    "import seaborn as sns              # Cargar librería seaborn para gráficos\n",
    "import matplotlib.pyplot as plt    # Cargar Matploblib para gráficos estándar\n",
    "                                  "
   ]
  },
  {
   "cell_type": "code",
   "execution_count": 90,
   "metadata": {},
   "outputs": [
    {
     "data": {
      "image/png": "[encoded data removed]",
      "text/plain": [
       "<Figure size 432x288 with 1 Axes>"
      ]
     },
     "metadata": {},
     "output_type": "display_data"
    }
   ],
   "source": [
    "sns.set(color_codes=True)                          # Generar datos normalizados\n",
    "n = np.random.normal(size=100)\n",
    "sns.distplot(n);"
   ]
  },
  {
   "cell_type": "code",
   "execution_count": 92,
   "metadata": {},
   "outputs": [
    {
     "data": {
      "image/png": "[encoded data removed]",
      "text/plain": [
       "<Figure size 432x288 with 1 Axes>"
      ]
     },
     "metadata": {},
     "output_type": "display_data"
    }
   ],
   "source": [
    "sns.distplot(n, kde=False, rug=True);                # Generar Histograma"
   ]
  },
  {
   "cell_type": "code",
   "execution_count": 93,
   "metadata": {},
   "outputs": [
    {
     "data": {
      "image/png": "[encoded data removed]",
      "text/plain": [
       "<Figure size 432x288 with 1 Axes>"
      ]
     },
     "metadata": {},
     "output_type": "display_data"
    }
   ],
   "source": [
    "sns.distplot(n, hist=False, rug=True);              # Generar Densidad del área (línea)"
   ]
  },
  {
   "cell_type": "code",
   "execution_count": 94,
   "metadata": {},
   "outputs": [
    {
     "data": {
      "image/png": "[encoded data removed]",
      "text/plain": [
       "<Figure size 432x288 with 1 Axes>"
      ]
     },
     "metadata": {},
     "output_type": "display_data"
    }
   ],
   "source": [
    "sns.kdeplot(n, shade=True);                   # Generar Densidad del área (sombra)"
   ]
  },
  {
   "cell_type": "code",
   "execution_count": 68,
   "metadata": {},
   "outputs": [
    {
     "data": {
      "image/png": "[encoded data removed]",
      "text/plain": [
       "<Figure size 432x288 with 1 Axes>"
      ]
     },
     "metadata": {},
     "output_type": "display_data"
    }
   ],
   "source": [
    "x = np.random.gamma(4, size=200)                #Usar función Gamma\n",
    "sns.distplot(x, kde=False, fit=stats.gamma);"
   ]
  },
  {
   "cell_type": "code",
   "execution_count": 72,
   "metadata": {},
   "outputs": [
    {
     "data": {
      "image/png": "[encoded data removed]",
      "text/plain": [
       "<Figure size 432x288 with 1 Axes>"
      ]
     },
     "metadata": {},
     "output_type": "display_data"
    }
   ],
   "source": [
    "y = np.random.beta(2,4,size=200)                   # Generar función beta\n",
    "sns.distplot(y, kde=False, fit=stats.beta);"
   ]
  },
  {
   "cell_type": "code",
   "execution_count": 77,
   "metadata": {},
   "outputs": [
    {
     "data": {
      "image/png": "[encoded data removed]",
      "text/plain": [
       "<Figure size 720x720 with 20 Axes>"
      ]
     },
     "metadata": {},
     "output_type": "display_data"
    }
   ],
   "source": [
    "sns.pairplot(df);        # Generar Plots múltiples"
   ]
  },
  {
   "cell_type": "code",
   "execution_count": 79,
   "metadata": {},
   "outputs": [
    {
     "data": {
      "image/png": "[encoded data removed]",
      "text/plain": [
       "<Figure size 720x720 with 20 Axes>"
      ]
     },
     "metadata": {},
     "output_type": "display_data"
    }
   ],
   "source": [
    "ir= sns.load_dataset(\"iris\")       # Generar Plots múltiples dataset Iris\n",
    "sns.pairplot(ir);"
   ]
  },
  {
   "cell_type": "code",
   "execution_count": 80,
   "metadata": {},
   "outputs": [
    {
     "data": {
      "text/plain": [
       "array([ 0.64216644, -1.16611911,  0.14218985, -0.47001716])"
      ]
     },
     "execution_count": 80,
     "metadata": {},
     "output_type": "execute_result"
    }
   ],
   "source": [
    "sp.skew(df)      # Determinar el sesgo de los datos (inclinación hacia un punto)"
   ]
  },
  {
   "cell_type": "code",
   "execution_count": 86,
   "metadata": {},
   "outputs": [
    {
     "name": "stdout",
     "output_type": "stream",
     "text": [
      "0.7359154941223144 0.24768525450866424\n"
     ]
    }
   ],
   "source": [
    "print(sp.skew(x), np.mean(x))      # Determinar el sesgo de los datos en Función Gamma  (Positiva)  "
   ]
  },
  {
   "cell_type": "code",
   "execution_count": 87,
   "metadata": {},
   "outputs": [
    {
     "name": "stdout",
     "output_type": "stream",
     "text": [
      "0.35852701775405904 0.35672055148737847\n"
     ]
    }
   ],
   "source": [
    "print(sp.skew(y), np.mean(y))        # Determinar el sesgo de los datos en Función Beta  (Normal)"
   ]
  },
  {
   "cell_type": "code",
   "execution_count": 13,
   "metadata": {},
   "outputs": [],
   "source": [
    "import pandas as pd\n",
    "import numpy as np\n",
    "\n",
    "df = pd.io.parsers.read_csv(\n",
    "    'https://raw.githubusercontent.com/rasbt/pattern_classification/master/data/wine_data.csv',\n",
    "     header=None,\n",
    "     usecols=[0,1,2]\n",
    "    )"
   ]
  },
  {
   "cell_type": "code",
   "execution_count": 45,
   "metadata": {},
   "outputs": [
    {
     "data": {
      "text/html": [
       "<div>\n",
       "<style scoped>\n",
       "    .dataframe tbody tr th:only-of-type {\n",
       "        vertical-align: middle;\n",
       "    }\n",
       "\n",
       "    .dataframe tbody tr th {\n",
       "        vertical-align: top;\n",
       "    }\n",
       "\n",
       "    .dataframe thead th {\n",
       "        text-align: right;\n",
       "    }\n",
       "</style>\n",
       "<table border=\"1\" class=\"dataframe\">\n",
       "  <thead>\n",
       "    <tr style=\"text-align: right;\">\n",
       "      <th></th>\n",
       "      <th>1</th>\n",
       "      <th>2</th>\n",
       "    </tr>\n",
       "  </thead>\n",
       "  <tbody>\n",
       "    <tr>\n",
       "      <th>0</th>\n",
       "      <td>14.23</td>\n",
       "      <td>1.71</td>\n",
       "    </tr>\n",
       "    <tr>\n",
       "      <th>1</th>\n",
       "      <td>13.20</td>\n",
       "      <td>1.78</td>\n",
       "    </tr>\n",
       "    <tr>\n",
       "      <th>2</th>\n",
       "      <td>13.16</td>\n",
       "      <td>2.36</td>\n",
       "    </tr>\n",
       "    <tr>\n",
       "      <th>3</th>\n",
       "      <td>14.37</td>\n",
       "      <td>1.95</td>\n",
       "    </tr>\n",
       "    <tr>\n",
       "      <th>4</th>\n",
       "      <td>13.24</td>\n",
       "      <td>2.59</td>\n",
       "    </tr>\n",
       "    <tr>\n",
       "      <th>5</th>\n",
       "      <td>14.20</td>\n",
       "      <td>1.76</td>\n",
       "    </tr>\n",
       "    <tr>\n",
       "      <th>6</th>\n",
       "      <td>14.39</td>\n",
       "      <td>1.87</td>\n",
       "    </tr>\n",
       "    <tr>\n",
       "      <th>7</th>\n",
       "      <td>14.06</td>\n",
       "      <td>2.15</td>\n",
       "    </tr>\n",
       "    <tr>\n",
       "      <th>8</th>\n",
       "      <td>14.83</td>\n",
       "      <td>1.64</td>\n",
       "    </tr>\n",
       "    <tr>\n",
       "      <th>9</th>\n",
       "      <td>13.86</td>\n",
       "      <td>1.35</td>\n",
       "    </tr>\n",
       "    <tr>\n",
       "      <th>10</th>\n",
       "      <td>14.10</td>\n",
       "      <td>2.16</td>\n",
       "    </tr>\n",
       "    <tr>\n",
       "      <th>11</th>\n",
       "      <td>14.12</td>\n",
       "      <td>1.48</td>\n",
       "    </tr>\n",
       "    <tr>\n",
       "      <th>12</th>\n",
       "      <td>13.75</td>\n",
       "      <td>1.73</td>\n",
       "    </tr>\n",
       "    <tr>\n",
       "      <th>13</th>\n",
       "      <td>14.75</td>\n",
       "      <td>1.73</td>\n",
       "    </tr>\n",
       "    <tr>\n",
       "      <th>14</th>\n",
       "      <td>14.38</td>\n",
       "      <td>1.87</td>\n",
       "    </tr>\n",
       "    <tr>\n",
       "      <th>15</th>\n",
       "      <td>13.63</td>\n",
       "      <td>1.81</td>\n",
       "    </tr>\n",
       "    <tr>\n",
       "      <th>16</th>\n",
       "      <td>14.30</td>\n",
       "      <td>1.92</td>\n",
       "    </tr>\n",
       "    <tr>\n",
       "      <th>17</th>\n",
       "      <td>13.83</td>\n",
       "      <td>1.57</td>\n",
       "    </tr>\n",
       "    <tr>\n",
       "      <th>18</th>\n",
       "      <td>14.19</td>\n",
       "      <td>1.59</td>\n",
       "    </tr>\n",
       "    <tr>\n",
       "      <th>19</th>\n",
       "      <td>13.64</td>\n",
       "      <td>3.10</td>\n",
       "    </tr>\n",
       "    <tr>\n",
       "      <th>20</th>\n",
       "      <td>14.06</td>\n",
       "      <td>1.63</td>\n",
       "    </tr>\n",
       "    <tr>\n",
       "      <th>21</th>\n",
       "      <td>12.93</td>\n",
       "      <td>3.80</td>\n",
       "    </tr>\n",
       "    <tr>\n",
       "      <th>22</th>\n",
       "      <td>13.71</td>\n",
       "      <td>1.86</td>\n",
       "    </tr>\n",
       "    <tr>\n",
       "      <th>23</th>\n",
       "      <td>12.85</td>\n",
       "      <td>1.60</td>\n",
       "    </tr>\n",
       "    <tr>\n",
       "      <th>24</th>\n",
       "      <td>13.50</td>\n",
       "      <td>1.81</td>\n",
       "    </tr>\n",
       "    <tr>\n",
       "      <th>25</th>\n",
       "      <td>13.05</td>\n",
       "      <td>2.05</td>\n",
       "    </tr>\n",
       "    <tr>\n",
       "      <th>26</th>\n",
       "      <td>13.39</td>\n",
       "      <td>1.77</td>\n",
       "    </tr>\n",
       "    <tr>\n",
       "      <th>27</th>\n",
       "      <td>13.30</td>\n",
       "      <td>1.72</td>\n",
       "    </tr>\n",
       "    <tr>\n",
       "      <th>28</th>\n",
       "      <td>13.87</td>\n",
       "      <td>1.90</td>\n",
       "    </tr>\n",
       "    <tr>\n",
       "      <th>29</th>\n",
       "      <td>14.02</td>\n",
       "      <td>1.68</td>\n",
       "    </tr>\n",
       "    <tr>\n",
       "      <th>30</th>\n",
       "      <td>13.73</td>\n",
       "      <td>1.50</td>\n",
       "    </tr>\n",
       "    <tr>\n",
       "      <th>31</th>\n",
       "      <td>13.58</td>\n",
       "      <td>1.66</td>\n",
       "    </tr>\n",
       "    <tr>\n",
       "      <th>32</th>\n",
       "      <td>13.68</td>\n",
       "      <td>1.83</td>\n",
       "    </tr>\n",
       "    <tr>\n",
       "      <th>33</th>\n",
       "      <td>13.76</td>\n",
       "      <td>1.53</td>\n",
       "    </tr>\n",
       "    <tr>\n",
       "      <th>34</th>\n",
       "      <td>13.51</td>\n",
       "      <td>1.80</td>\n",
       "    </tr>\n",
       "    <tr>\n",
       "      <th>35</th>\n",
       "      <td>13.48</td>\n",
       "      <td>1.81</td>\n",
       "    </tr>\n",
       "    <tr>\n",
       "      <th>36</th>\n",
       "      <td>13.28</td>\n",
       "      <td>1.64</td>\n",
       "    </tr>\n",
       "    <tr>\n",
       "      <th>37</th>\n",
       "      <td>13.05</td>\n",
       "      <td>1.65</td>\n",
       "    </tr>\n",
       "    <tr>\n",
       "      <th>38</th>\n",
       "      <td>13.07</td>\n",
       "      <td>1.50</td>\n",
       "    </tr>\n",
       "    <tr>\n",
       "      <th>39</th>\n",
       "      <td>14.22</td>\n",
       "      <td>3.99</td>\n",
       "    </tr>\n",
       "    <tr>\n",
       "      <th>40</th>\n",
       "      <td>13.56</td>\n",
       "      <td>1.71</td>\n",
       "    </tr>\n",
       "    <tr>\n",
       "      <th>41</th>\n",
       "      <td>13.41</td>\n",
       "      <td>3.84</td>\n",
       "    </tr>\n",
       "    <tr>\n",
       "      <th>42</th>\n",
       "      <td>13.88</td>\n",
       "      <td>1.89</td>\n",
       "    </tr>\n",
       "    <tr>\n",
       "      <th>43</th>\n",
       "      <td>13.24</td>\n",
       "      <td>3.98</td>\n",
       "    </tr>\n",
       "    <tr>\n",
       "      <th>44</th>\n",
       "      <td>13.05</td>\n",
       "      <td>1.77</td>\n",
       "    </tr>\n",
       "    <tr>\n",
       "      <th>45</th>\n",
       "      <td>14.21</td>\n",
       "      <td>4.04</td>\n",
       "    </tr>\n",
       "    <tr>\n",
       "      <th>46</th>\n",
       "      <td>14.38</td>\n",
       "      <td>3.59</td>\n",
       "    </tr>\n",
       "    <tr>\n",
       "      <th>47</th>\n",
       "      <td>13.90</td>\n",
       "      <td>1.68</td>\n",
       "    </tr>\n",
       "    <tr>\n",
       "      <th>48</th>\n",
       "      <td>14.10</td>\n",
       "      <td>2.02</td>\n",
       "    </tr>\n",
       "    <tr>\n",
       "      <th>49</th>\n",
       "      <td>13.94</td>\n",
       "      <td>1.73</td>\n",
       "    </tr>\n",
       "  </tbody>\n",
       "</table>\n",
       "</div>"
      ],
      "text/plain": [
       "        1     2\n",
       "0   14.23  1.71\n",
       "1   13.20  1.78\n",
       "2   13.16  2.36\n",
       "3   14.37  1.95\n",
       "4   13.24  2.59\n",
       "5   14.20  1.76\n",
       "6   14.39  1.87\n",
       "7   14.06  2.15\n",
       "8   14.83  1.64\n",
       "9   13.86  1.35\n",
       "10  14.10  2.16\n",
       "11  14.12  1.48\n",
       "12  13.75  1.73\n",
       "13  14.75  1.73\n",
       "14  14.38  1.87\n",
       "15  13.63  1.81\n",
       "16  14.30  1.92\n",
       "17  13.83  1.57\n",
       "18  14.19  1.59\n",
       "19  13.64  3.10\n",
       "20  14.06  1.63\n",
       "21  12.93  3.80\n",
       "22  13.71  1.86\n",
       "23  12.85  1.60\n",
       "24  13.50  1.81\n",
       "25  13.05  2.05\n",
       "26  13.39  1.77\n",
       "27  13.30  1.72\n",
       "28  13.87  1.90\n",
       "29  14.02  1.68\n",
       "30  13.73  1.50\n",
       "31  13.58  1.66\n",
       "32  13.68  1.83\n",
       "33  13.76  1.53\n",
       "34  13.51  1.80\n",
       "35  13.48  1.81\n",
       "36  13.28  1.64\n",
       "37  13.05  1.65\n",
       "38  13.07  1.50\n",
       "39  14.22  3.99\n",
       "40  13.56  1.71\n",
       "41  13.41  3.84\n",
       "42  13.88  1.89\n",
       "43  13.24  3.98\n",
       "44  13.05  1.77\n",
       "45  14.21  4.04\n",
       "46  14.38  3.59\n",
       "47  13.90  1.68\n",
       "48  14.10  2.02\n",
       "49  13.94  1.73"
      ]
     },
     "execution_count": 45,
     "metadata": {},
     "output_type": "execute_result"
    }
   ],
   "source": [
    "dfz= df[0:50][{1,2}]\n",
    "dfz"
   ]
  },
  {
   "cell_type": "code",
   "execution_count": 46,
   "metadata": {},
   "outputs": [
    {
     "data": {
      "text/plain": [
       "MinMaxScaler(copy=True, feature_range=(0, 1))"
      ]
     },
     "execution_count": 46,
     "metadata": {},
     "output_type": "execute_result"
    }
   ],
   "source": [
    "# Importar sklearn\n",
    "\n",
    "from sklearn.preprocessing import MinMaxScaler\n",
    "\n",
    "# Invocar Método Normalización\n",
    "norm = MinMaxScaler().fit(dfz)\n",
    "\n",
    "norm"
   ]
  },
  {
   "cell_type": "code",
   "execution_count": 47,
   "metadata": {},
   "outputs": [
    {
     "data": {
      "text/plain": [
       "array([[0.6969697 , 0.133829  ],\n",
       "       [0.17676768, 0.1598513 ],\n",
       "       [0.15656566, 0.37546468],\n",
       "       [0.76767677, 0.22304833],\n",
       "       [0.1969697 , 0.46096654],\n",
       "       [0.68181818, 0.15241636],\n",
       "       [0.77777778, 0.19330855],\n",
       "       [0.61111111, 0.29739777],\n",
       "       [1.        , 0.10780669],\n",
       "       [0.51010101, 0.        ],\n",
       "       [0.63131313, 0.30111524],\n",
       "       [0.64141414, 0.04832714],\n",
       "       [0.45454545, 0.14126394],\n",
       "       [0.95959596, 0.14126394],\n",
       "       [0.77272727, 0.19330855],\n",
       "       [0.39393939, 0.17100372],\n",
       "       [0.73232323, 0.21189591],\n",
       "       [0.49494949, 0.08178439],\n",
       "       [0.67676768, 0.08921933],\n",
       "       [0.3989899 , 0.65055762],\n",
       "       [0.61111111, 0.10408922],\n",
       "       [0.04040404, 0.91078067],\n",
       "       [0.43434343, 0.18959108],\n",
       "       [0.        , 0.0929368 ],\n",
       "       [0.32828283, 0.17100372],\n",
       "       [0.1010101 , 0.26022305],\n",
       "       [0.27272727, 0.15613383],\n",
       "       [0.22727273, 0.13754647],\n",
       "       [0.51515152, 0.20446097],\n",
       "       [0.59090909, 0.12267658],\n",
       "       [0.44444444, 0.05576208],\n",
       "       [0.36868687, 0.11524164],\n",
       "       [0.41919192, 0.17843866],\n",
       "       [0.45959596, 0.0669145 ],\n",
       "       [0.33333333, 0.16728625],\n",
       "       [0.31818182, 0.17100372],\n",
       "       [0.21717172, 0.10780669],\n",
       "       [0.1010101 , 0.11152416],\n",
       "       [0.11111111, 0.05576208],\n",
       "       [0.69191919, 0.98141264],\n",
       "       [0.35858586, 0.133829  ],\n",
       "       [0.28282828, 0.92565056],\n",
       "       [0.52020202, 0.20074349],\n",
       "       [0.1969697 , 0.97769517],\n",
       "       [0.1010101 , 0.15613383],\n",
       "       [0.68686869, 1.        ],\n",
       "       [0.77272727, 0.83271375],\n",
       "       [0.53030303, 0.12267658],\n",
       "       [0.63131313, 0.24907063],\n",
       "       [0.55050505, 0.14126394]])"
      ]
     },
     "execution_count": 47,
     "metadata": {},
     "output_type": "execute_result"
    }
   ],
   "source": [
    "# Aplicar transformación a Dataset\n",
    "\n",
    "X_norm = norm.transform(dfz)\n",
    "\n",
    "X_norm"
   ]
  },
  {
   "cell_type": "code",
   "execution_count": 48,
   "metadata": {},
   "outputs": [
    {
     "data": {
      "text/plain": [
       "StandardScaler(copy=True, with_mean=True, with_std=True)"
      ]
     },
     "execution_count": 48,
     "metadata": {},
     "output_type": "execute_result"
    }
   ],
   "source": [
    "# Importar sklearn\n",
    "\n",
    "from sklearn.preprocessing import StandardScaler\n",
    "\n",
    "# Invocar Método Estandarización\n",
    "\n",
    "scale = StandardScaler().fit(dfz)\n",
    "scale    "
   ]
  },
  {
   "cell_type": "code",
   "execution_count": 52,
   "metadata": {},
   "outputs": [
    {
     "data": {
      "text/plain": [
       "array([[ 9.86260739e-01, -4.83995251e-01],\n",
       "       [-1.16961482e+00, -3.87746195e-01],\n",
       "       [-1.25333814e+00,  4.09745979e-01],\n",
       "       [ 1.27929237e+00, -1.53998489e-01],\n",
       "       [-1.08589149e+00,  7.25992876e-01],\n",
       "       [ 9.23468247e-01, -4.15245925e-01],\n",
       "       [ 1.32115403e+00, -2.63997410e-01],\n",
       "       [ 6.30436619e-01,  1.20998813e-01],\n",
       "       [ 2.24211058e+00, -5.80244306e-01],\n",
       "       [ 2.11820006e-01, -9.78990394e-01],\n",
       "       [ 7.14159941e-01,  1.34748678e-01],\n",
       "       [ 7.56021602e-01, -8.00242148e-01],\n",
       "       [-1.84191310e-02, -4.56495521e-01],\n",
       "       [ 2.07466393e+00, -4.56495521e-01],\n",
       "       [ 1.30022320e+00, -2.63997410e-01],\n",
       "       [-2.69589099e-01, -3.46496600e-01],\n",
       "       [ 1.13277655e+00, -1.95248084e-01],\n",
       "       [ 1.49027514e-01, -6.76493362e-01],\n",
       "       [ 9.02537417e-01, -6.48993632e-01],\n",
       "       [-2.48658268e-01,  1.42723600e+00],\n",
       "       [ 6.30436619e-01, -5.93994171e-01],\n",
       "       [-1.73474724e+00,  2.38972655e+00],\n",
       "       [-1.02142453e-01, -2.77747275e-01],\n",
       "       [-1.90219389e+00, -6.35243767e-01],\n",
       "       [-5.41689897e-01, -3.46496600e-01],\n",
       "       [-1.48357727e+00, -1.64998381e-02],\n",
       "       [-7.71929034e-01, -4.01496060e-01],\n",
       "       [-9.60306509e-01, -4.70245386e-01],\n",
       "       [ 2.32750837e-01, -2.22747814e-01],\n",
       "       [ 5.46713296e-01, -5.25244846e-01],\n",
       "       [-6.02807922e-02, -7.72742418e-01],\n",
       "       [-3.74243252e-01, -5.52744576e-01],\n",
       "       [-1.64934945e-01, -3.18996870e-01],\n",
       "       [ 2.51169968e-03, -7.31492822e-01],\n",
       "       [-5.20759066e-01, -3.60246465e-01],\n",
       "       [-5.83551558e-01, -3.46496600e-01],\n",
       "       [-1.00216817e+00, -5.80244306e-01],\n",
       "       [-1.48357727e+00, -5.66494441e-01],\n",
       "       [-1.44171561e+00, -7.72742418e-01],\n",
       "       [ 9.65329909e-01,  2.65097399e+00],\n",
       "       [-4.16104913e-01, -4.83995251e-01],\n",
       "       [-7.30067372e-01,  2.44472601e+00],\n",
       "       [ 2.53681667e-01, -2.36497679e-01],\n",
       "       [-1.08589149e+00,  2.63722412e+00],\n",
       "       [-1.48357727e+00, -4.01496060e-01],\n",
       "       [ 9.44399078e-01,  2.71972331e+00],\n",
       "       [ 1.30022320e+00,  2.10097938e+00],\n",
       "       [ 2.95543328e-01, -5.25244846e-01],\n",
       "       [ 7.14159941e-01, -5.77494333e-02],\n",
       "       [ 3.79266651e-01, -4.56495521e-01]])"
      ]
     },
     "execution_count": 52,
     "metadata": {},
     "output_type": "execute_result"
    }
   ],
   "source": [
    "# Aplicar transformación a Dataset\n",
    "\n",
    "X_Scale = scale.transform(dfz)\n",
    "X_Scale"
   ]
  },
  {
   "cell_type": "code",
   "execution_count": 101,
   "metadata": {},
   "outputs": [
    {
     "data": {
      "text/plain": [
       "NormaltestResult(statistic=17.158353393916574, pvalue=0.00018797967795553992)"
      ]
     },
     "execution_count": 101,
     "metadata": {},
     "output_type": "execute_result"
    }
   ],
   "source": [
    "from scipy.stats import normaltest as norm\n",
    "\n",
    "norm(x)   # Si pvalue > 0.05 se acepta la normalidad con el 95 % de confiabilidad, caso contrario se rechaza\n"
   ]
  },
  {
   "cell_type": "code",
   "execution_count": 102,
   "metadata": {},
   "outputs": [
    {
     "data": {
      "text/plain": [
       "0.3384434568117398"
      ]
     },
     "execution_count": 102,
     "metadata": {},
     "output_type": "execute_result"
    }
   ],
   "source": [
    "sp.kurtosis(x)      #Leptocúrtica"
   ]
  },
  {
   "cell_type": "code",
   "execution_count": 103,
   "metadata": {},
   "outputs": [
    {
     "data": {
      "text/plain": [
       "-0.5753970318421886"
      ]
     },
     "execution_count": 103,
     "metadata": {},
     "output_type": "execute_result"
    }
   ],
   "source": [
    "sp.kurtosis(y)      # Platicúrtica"
   ]
  },
  {
   "cell_type": "code",
   "execution_count": 104,
   "metadata": {},
   "outputs": [
    {
     "data": {
      "text/plain": [
       "-0.37651487905811054"
      ]
     },
     "execution_count": 104,
     "metadata": {},
     "output_type": "execute_result"
    }
   ],
   "source": [
    "sp.kurtosis(n)     # # Platicúrtica"
   ]
  },
  {
   "cell_type": "code",
   "execution_count": 89,
   "metadata": {},
   "outputs": [
    {
     "data": {
      "text/plain": [
       "NormaltestResult(statistic=8.943047325059542, pvalue=0.011429887285275504)"
      ]
     },
     "execution_count": 89,
     "metadata": {},
     "output_type": "execute_result"
    }
   ],
   "source": [
    "norm(y)   # Si pvalue > 0.05 se acepta la normalidad con el 95 % de confiabilidad, caso contrario se rechaza"
   ]
  },
  {
   "cell_type": "code",
   "execution_count": 95,
   "metadata": {},
   "outputs": [
    {
     "data": {
      "text/plain": [
       "NormaltestResult(statistic=0.6151883363907744, pvalue=0.7352136305470776)"
      ]
     },
     "execution_count": 95,
     "metadata": {},
     "output_type": "execute_result"
    }
   ],
   "source": [
    "norm(n)   # Si pvalue > 0.05 se acepta la normalidad con el 95 % de confiabilidad, caso contrario se rechaza"
   ]
  },
  {
   "cell_type": "code",
   "execution_count": 96,
   "metadata": {},
   "outputs": [
    {
     "data": {
      "text/plain": [
       "(0.9588868618011475, 1.501735550846206e-05)"
      ]
     },
     "execution_count": 96,
     "metadata": {},
     "output_type": "execute_result"
    }
   ],
   "source": [
    "from scipy.stats import shapiro\n",
    "\n",
    "shapiro(x)    # Se rechaza la Hipótesis de Normalidad   pvalue < 0.05"
   ]
  },
  {
   "cell_type": "code",
   "execution_count": 98,
   "metadata": {},
   "outputs": [
    {
     "data": {
      "text/plain": [
       "(0.9771502017974854, 0.00238837581127882)"
      ]
     },
     "execution_count": 98,
     "metadata": {},
     "output_type": "execute_result"
    }
   ],
   "source": [
    "shapiro(y)    # Se rechaza la Hipótesis de Normalidad  pvalue < 0.05"
   ]
  },
  {
   "cell_type": "code",
   "execution_count": 99,
   "metadata": {},
   "outputs": [
    {
     "data": {
      "text/plain": [
       "(0.9932092428207397, 0.9003565907478333)"
      ]
     },
     "execution_count": 99,
     "metadata": {},
     "output_type": "execute_result"
    }
   ],
   "source": [
    "shapiro(n)    # Se acepta la Hipótesis de Normalidad  pvalue > 0.05"
   ]
  },
  {
   "cell_type": "code",
   "execution_count": null,
   "metadata": {},
   "outputs": [],
   "source": []
  },
  {
   "cell_type": "code",
   "execution_count": null,
   "metadata": {},
   "outputs": [],
   "source": []
  }
 ],
 "metadata": {
  "kernelspec": {
   "display_name": "Python 3",
   "language": "python",
   "name": "python3"
  },
  "language_info": {
   "codemirror_mode": {
    "name": "ipython",
    "version": 3
   },
   "file_extension": ".py",
   "mimetype": "text/x-python",
   "name": "python",
   "nbconvert_exporter": "python",
   "pygments_lexer": "ipython3",
   "version": "3.8.8"
  }
 },
 "nbformat": 4,
 "nbformat_minor": 2
}
